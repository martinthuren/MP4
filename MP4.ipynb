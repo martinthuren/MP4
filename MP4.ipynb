{
 "cells": [
  {
   "cell_type": "markdown",
   "metadata": {},
   "source": [
    "## Data wrangling and exploration"
   ]
  },
  {
   "cell_type": "code",
   "execution_count": 421,
   "metadata": {},
   "outputs": [],
   "source": [
    "import pandas as pd\n",
    "import numpy as np\n",
    "import matplotlib.pyplot as plt\n",
    "import seaborn as sns\n",
    "from sklearn.model_selection import train_test_split\n",
    "from sklearn.metrics import mean_squared_error\n",
    "import joblib\n",
    "from sklearn.metrics import r2_score\n",
    "from sklearn.linear_model import LogisticRegression\n",
    "from sklearn.model_selection import train_test_split\n",
    "from sklearn.linear_model import LogisticRegression\n",
    "from sklearn.metrics import accuracy_score\n",
    "from sklearn.model_selection import train_test_split\n",
    "from sklearn.tree import DecisionTreeClassifier\n",
    "from sklearn.naive_bayes import GaussianNB\n",
    "from sklearn.metrics import accuracy_score, classification_report\n",
    "from sklearn.cluster import KMeans\n",
    "from sklearn.metrics import silhouette_score\n",
    "from sklearn.preprocessing import StandardScaler\n",
    "\n"
   ]
  },
  {
   "cell_type": "code",
   "execution_count": 422,
   "metadata": {},
   "outputs": [],
   "source": [
    "# csv file\n",
    "file_path = '/Users/martinthuren/Desktop/Datamatiker - 4 semester/Business Intelligence/MP4/employee-attrition.csv'\n",
    "\n",
    "df = pd.read_csv(file_path, header=0)"
   ]
  },
  {
   "cell_type": "code",
   "execution_count": 423,
   "metadata": {},
   "outputs": [
    {
     "name": "stdout",
     "output_type": "stream",
     "text": [
      "   Age Attrition     BusinessTravel  DailyRate              Department  \\\n",
      "0   41       Yes      Travel_Rarely       1102                   Sales   \n",
      "1   49        No  Travel_Frequently        279  Research & Development   \n",
      "2   37       Yes      Travel_Rarely       1373  Research & Development   \n",
      "3   33        No  Travel_Frequently       1392  Research & Development   \n",
      "4   27        No      Travel_Rarely        591  Research & Development   \n",
      "\n",
      "   DistanceFromHome  Education EducationField  EmployeeCount  EmployeeNumber  \\\n",
      "0                 1          2  Life Sciences              1               1   \n",
      "1                 8          1  Life Sciences              1               2   \n",
      "2                 2          2          Other              1               4   \n",
      "3                 3          4  Life Sciences              1               5   \n",
      "4                 2          1        Medical              1               7   \n",
      "\n",
      "   ...  RelationshipSatisfaction StandardHours  StockOptionLevel  \\\n",
      "0  ...                         1            80                 0   \n",
      "1  ...                         4            80                 1   \n",
      "2  ...                         2            80                 0   \n",
      "3  ...                         3            80                 0   \n",
      "4  ...                         4            80                 1   \n",
      "\n",
      "   TotalWorkingYears  TrainingTimesLastYear WorkLifeBalance  YearsAtCompany  \\\n",
      "0                  8                      0               1               6   \n",
      "1                 10                      3               3              10   \n",
      "2                  7                      3               3               0   \n",
      "3                  8                      3               3               8   \n",
      "4                  6                      3               3               2   \n",
      "\n",
      "  YearsInCurrentRole  YearsSinceLastPromotion  YearsWithCurrManager  \n",
      "0                  4                        0                     5  \n",
      "1                  7                        1                     7  \n",
      "2                  0                        0                     0  \n",
      "3                  7                        3                     0  \n",
      "4                  2                        2                     2  \n",
      "\n",
      "[5 rows x 35 columns]\n",
      "<class 'pandas.core.frame.DataFrame'>\n",
      "RangeIndex: 1470 entries, 0 to 1469\n",
      "Data columns (total 35 columns):\n",
      " #   Column                    Non-Null Count  Dtype \n",
      "---  ------                    --------------  ----- \n",
      " 0   Age                       1470 non-null   int64 \n",
      " 1   Attrition                 1470 non-null   object\n",
      " 2   BusinessTravel            1470 non-null   object\n",
      " 3   DailyRate                 1470 non-null   int64 \n",
      " 4   Department                1470 non-null   object\n",
      " 5   DistanceFromHome          1470 non-null   int64 \n",
      " 6   Education                 1470 non-null   int64 \n",
      " 7   EducationField            1470 non-null   object\n",
      " 8   EmployeeCount             1470 non-null   int64 \n",
      " 9   EmployeeNumber            1470 non-null   int64 \n",
      " 10  EnvironmentSatisfaction   1470 non-null   int64 \n",
      " 11  Gender                    1470 non-null   object\n",
      " 12  HourlyRate                1470 non-null   int64 \n",
      " 13  JobInvolvement            1470 non-null   int64 \n",
      " 14  JobLevel                  1470 non-null   int64 \n",
      " 15  JobRole                   1470 non-null   object\n",
      " 16  JobSatisfaction           1470 non-null   int64 \n",
      " 17  MaritalStatus             1470 non-null   object\n",
      " 18  MonthlyIncome             1470 non-null   int64 \n",
      " 19  MonthlyRate               1470 non-null   int64 \n",
      " 20  NumCompaniesWorked        1470 non-null   int64 \n",
      " 21  Over18                    1470 non-null   object\n",
      " 22  OverTime                  1470 non-null   object\n",
      " 23  PercentSalaryHike         1470 non-null   int64 \n",
      " 24  PerformanceRating         1470 non-null   int64 \n",
      " 25  RelationshipSatisfaction  1470 non-null   int64 \n",
      " 26  StandardHours             1470 non-null   int64 \n",
      " 27  StockOptionLevel          1470 non-null   int64 \n",
      " 28  TotalWorkingYears         1470 non-null   int64 \n",
      " 29  TrainingTimesLastYear     1470 non-null   int64 \n",
      " 30  WorkLifeBalance           1470 non-null   int64 \n",
      " 31  YearsAtCompany            1470 non-null   int64 \n",
      " 32  YearsInCurrentRole        1470 non-null   int64 \n",
      " 33  YearsSinceLastPromotion   1470 non-null   int64 \n",
      " 34  YearsWithCurrManager      1470 non-null   int64 \n",
      "dtypes: int64(26), object(9)\n",
      "memory usage: 402.1+ KB\n",
      "None\n",
      "               Age    DailyRate  DistanceFromHome    Education  EmployeeCount  \\\n",
      "count  1470.000000  1470.000000       1470.000000  1470.000000         1470.0   \n",
      "mean     36.923810   802.485714          9.192517     2.912925            1.0   \n",
      "std       9.135373   403.509100          8.106864     1.024165            0.0   \n",
      "min      18.000000   102.000000          1.000000     1.000000            1.0   \n",
      "25%      30.000000   465.000000          2.000000     2.000000            1.0   \n",
      "50%      36.000000   802.000000          7.000000     3.000000            1.0   \n",
      "75%      43.000000  1157.000000         14.000000     4.000000            1.0   \n",
      "max      60.000000  1499.000000         29.000000     5.000000            1.0   \n",
      "\n",
      "       EmployeeNumber  EnvironmentSatisfaction   HourlyRate  JobInvolvement  \\\n",
      "count     1470.000000              1470.000000  1470.000000     1470.000000   \n",
      "mean      1024.865306                 2.721769    65.891156        2.729932   \n",
      "std        602.024335                 1.093082    20.329428        0.711561   \n",
      "min          1.000000                 1.000000    30.000000        1.000000   \n",
      "25%        491.250000                 2.000000    48.000000        2.000000   \n",
      "50%       1020.500000                 3.000000    66.000000        3.000000   \n",
      "75%       1555.750000                 4.000000    83.750000        3.000000   \n",
      "max       2068.000000                 4.000000   100.000000        4.000000   \n",
      "\n",
      "          JobLevel  ...  RelationshipSatisfaction  StandardHours  \\\n",
      "count  1470.000000  ...               1470.000000         1470.0   \n",
      "mean      2.063946  ...                  2.712245           80.0   \n",
      "std       1.106940  ...                  1.081209            0.0   \n",
      "min       1.000000  ...                  1.000000           80.0   \n",
      "25%       1.000000  ...                  2.000000           80.0   \n",
      "50%       2.000000  ...                  3.000000           80.0   \n",
      "75%       3.000000  ...                  4.000000           80.0   \n",
      "max       5.000000  ...                  4.000000           80.0   \n",
      "\n",
      "       StockOptionLevel  TotalWorkingYears  TrainingTimesLastYear  \\\n",
      "count       1470.000000        1470.000000            1470.000000   \n",
      "mean           0.793878          11.279592               2.799320   \n",
      "std            0.852077           7.780782               1.289271   \n",
      "min            0.000000           0.000000               0.000000   \n",
      "25%            0.000000           6.000000               2.000000   \n",
      "50%            1.000000          10.000000               3.000000   \n",
      "75%            1.000000          15.000000               3.000000   \n",
      "max            3.000000          40.000000               6.000000   \n",
      "\n",
      "       WorkLifeBalance  YearsAtCompany  YearsInCurrentRole  \\\n",
      "count      1470.000000     1470.000000         1470.000000   \n",
      "mean          2.761224        7.008163            4.229252   \n",
      "std           0.706476        6.126525            3.623137   \n",
      "min           1.000000        0.000000            0.000000   \n",
      "25%           2.000000        3.000000            2.000000   \n",
      "50%           3.000000        5.000000            3.000000   \n",
      "75%           3.000000        9.000000            7.000000   \n",
      "max           4.000000       40.000000           18.000000   \n",
      "\n",
      "       YearsSinceLastPromotion  YearsWithCurrManager  \n",
      "count              1470.000000           1470.000000  \n",
      "mean                  2.187755              4.123129  \n",
      "std                   3.222430              3.568136  \n",
      "min                   0.000000              0.000000  \n",
      "25%                   0.000000              2.000000  \n",
      "50%                   1.000000              3.000000  \n",
      "75%                   3.000000              7.000000  \n",
      "max                  15.000000             17.000000  \n",
      "\n",
      "[8 rows x 26 columns]\n"
     ]
    }
   ],
   "source": [
    "print(df.head())\n",
    "print(df.info())\n",
    "print(df.describe())"
   ]
  },
  {
   "cell_type": "code",
   "execution_count": 424,
   "metadata": {},
   "outputs": [],
   "source": [
    "#Drop missing values\n",
    "df = df.dropna()\n",
    "\n",
    "# Remove duplicates\n",
    "df = df.drop_duplicates()"
   ]
  },
  {
   "cell_type": "code",
   "execution_count": 425,
   "metadata": {},
   "outputs": [],
   "source": [
    "# Feature selection\n",
    "target_variable = 'Attrition'\n",
    "features = df.drop(columns=[target_variable])"
   ]
  },
  {
   "cell_type": "code",
   "execution_count": 426,
   "metadata": {},
   "outputs": [],
   "source": [
    "features_encoded = pd.get_dummies(features)"
   ]
  },
  {
   "cell_type": "code",
   "execution_count": 427,
   "metadata": {},
   "outputs": [
    {
     "data": {
      "image/png": "[encoded data removed]",
      "text/plain": [
       "<Figure size 640x480 with 1 Axes>"
      ]
     },
     "metadata": {},
     "output_type": "display_data"
    }
   ],
   "source": [
    "# Data analysis\n",
    "sns.histplot(df['Age'], kde=True)\n",
    "plt.title('Distribution of Age')\n",
    "plt.show()"
   ]
  },
  {
   "cell_type": "code",
   "execution_count": 428,
   "metadata": {},
   "outputs": [],
   "source": [
    "# Split the data into training and testing sets\n",
    "X_train, X_test, y_train, y_test = train_test_split(features_encoded, df[target_variable], test_size=0.2, random_state=42)"
   ]
  },
  {
   "cell_type": "code",
   "execution_count": 429,
   "metadata": {},
   "outputs": [
    {
     "data": {
      "text/html": [
       "<style>#sk-container-id-21 {color: black;}#sk-container-id-21 pre{padding: 0;}#sk-container-id-21 div.sk-toggleable {background-color: white;}#sk-container-id-21 label.sk-toggleable__label {cursor: pointer;display: block;width: 100%;margin-bottom: 0;padding: 0.3em;box-sizing: border-box;text-align: center;}#sk-container-id-21 label.sk-toggleable__label-arrow:before {content: \"▸\";float: left;margin-right: 0.25em;color: #696969;}#sk-container-id-21 label.sk-toggleable__label-arrow:hover:before {color: black;}#sk-container-id-21 div.sk-estimator:hover label.sk-toggleable__label-arrow:before {color: black;}#sk-container-id-21 div.sk-toggleable__content {max-height: 0;max-width: 0;overflow: hidden;text-align: left;background-color: #f0f8ff;}#sk-container-id-21 div.sk-toggleable__content pre {margin: 0.2em;color: black;border-radius: 0.25em;background-color: #f0f8ff;}#sk-container-id-21 input.sk-toggleable__control:checked~div.sk-toggleable__content {max-height: 200px;max-width: 100%;overflow: auto;}#sk-container-id-21 input.sk-toggleable__control:checked~label.sk-toggleable__label-arrow:before {content: \"▾\";}#sk-container-id-21 div.sk-estimator input.sk-toggleable__control:checked~label.sk-toggleable__label {background-color: #d4ebff;}#sk-container-id-21 div.sk-label input.sk-toggleable__control:checked~label.sk-toggleable__label {background-color: #d4ebff;}#sk-container-id-21 input.sk-hidden--visually {border: 0;clip: rect(1px 1px 1px 1px);clip: rect(1px, 1px, 1px, 1px);height: 1px;margin: -1px;overflow: hidden;padding: 0;position: absolute;width: 1px;}#sk-container-id-21 div.sk-estimator {font-family: monospace;background-color: #f0f8ff;border: 1px dotted black;border-radius: 0.25em;box-sizing: border-box;margin-bottom: 0.5em;}#sk-container-id-21 div.sk-estimator:hover {background-color: #d4ebff;}#sk-container-id-21 div.sk-parallel-item::after {content: \"\";width: 100%;border-bottom: 1px solid gray;flex-grow: 1;}#sk-container-id-21 div.sk-label:hover label.sk-toggleable__label {background-color: #d4ebff;}#sk-container-id-21 div.sk-serial::before {content: \"\";position: absolute;border-left: 1px solid gray;box-sizing: border-box;top: 0;bottom: 0;left: 50%;z-index: 0;}#sk-container-id-21 div.sk-serial {display: flex;flex-direction: column;align-items: center;background-color: white;padding-right: 0.2em;padding-left: 0.2em;position: relative;}#sk-container-id-21 div.sk-item {position: relative;z-index: 1;}#sk-container-id-21 div.sk-parallel {display: flex;align-items: stretch;justify-content: center;background-color: white;position: relative;}#sk-container-id-21 div.sk-item::before, #sk-container-id-21 div.sk-parallel-item::before {content: \"\";position: absolute;border-left: 1px solid gray;box-sizing: border-box;top: 0;bottom: 0;left: 50%;z-index: -1;}#sk-container-id-21 div.sk-parallel-item {display: flex;flex-direction: column;z-index: 1;position: relative;background-color: white;}#sk-container-id-21 div.sk-parallel-item:first-child::after {align-self: flex-end;width: 50%;}#sk-container-id-21 div.sk-parallel-item:last-child::after {align-self: flex-start;width: 50%;}#sk-container-id-21 div.sk-parallel-item:only-child::after {width: 0;}#sk-container-id-21 div.sk-dashed-wrapped {border: 1px dashed gray;margin: 0 0.4em 0.5em 0.4em;box-sizing: border-box;padding-bottom: 0.4em;background-color: white;}#sk-container-id-21 div.sk-label label {font-family: monospace;font-weight: bold;display: inline-block;line-height: 1.2em;}#sk-container-id-21 div.sk-label-container {text-align: center;}#sk-container-id-21 div.sk-container {/* jupyter's `normalize.less` sets `[hidden] { display: none; }` but bootstrap.min.css set `[hidden] { display: none !important; }` so we also need the `!important` here to be able to override the default hidden behavior on the sphinx rendered scikit-learn.org. See: https://github.com/scikit-learn/scikit-learn/issues/21755 */display: inline-block !important;position: relative;}#sk-container-id-21 div.sk-text-repr-fallback {display: none;}</style><div id=\"sk-container-id-21\" class=\"sk-top-container\"><div class=\"sk-text-repr-fallback\"><pre>LogisticRegression(max_iter=10000)</pre><b>In a Jupyter environment, please rerun this cell to show the HTML representation or trust the notebook. <br />On GitHub, the HTML representation is unable to render, please try loading this page with nbviewer.org.</b></div><div class=\"sk-container\" hidden><div class=\"sk-item\"><div class=\"sk-estimator sk-toggleable\"><input class=\"sk-toggleable__control sk-hidden--visually\" id=\"sk-estimator-id-21\" type=\"checkbox\" checked><label for=\"sk-estimator-id-21\" class=\"sk-toggleable__label sk-toggleable__label-arrow\">LogisticRegression</label><div class=\"sk-toggleable__content\"><pre>LogisticRegression(max_iter=10000)</pre></div></div></div></div></div>"
      ],
      "text/plain": [
       "LogisticRegression(max_iter=10000)"
      ]
     },
     "execution_count": 429,
     "metadata": {},
     "output_type": "execute_result"
    }
   ],
   "source": [
    "# machine learning model Logistic Regression\n",
    "model = LogisticRegression(max_iter=10000)\n",
    "model.fit(X_train, y_train)"
   ]
  },
  {
   "cell_type": "code",
   "execution_count": 430,
   "metadata": {},
   "outputs": [],
   "source": [
    "# Make predictions on the test set\n",
    "predictions = model.predict(X_test)"
   ]
  },
  {
   "cell_type": "code",
   "execution_count": 431,
   "metadata": {},
   "outputs": [
    {
     "name": "stdout",
     "output_type": "stream",
     "text": [
      "Accuracy: 0.891156462585034\n"
     ]
    }
   ],
   "source": [
    "# Evaluate the model\n",
    "accuracy = accuracy_score(y_test, predictions)\n",
    "print(f'Accuracy: {accuracy}')"
   ]
  },
  {
   "cell_type": "code",
   "execution_count": 432,
   "metadata": {},
   "outputs": [
    {
     "name": "stdout",
     "output_type": "stream",
     "text": [
      "Model saved successfully.\n"
     ]
    }
   ],
   "source": [
    "# Save the trained model\n",
    "joblib.dump(model, 'logistic_regression_model.pkl')\n",
    "\n",
    "print('Model saved successfully.')"
   ]
  },
  {
   "cell_type": "markdown",
   "metadata": {},
   "source": [
    "## Supervised machine learning: classification"
   ]
  },
  {
   "cell_type": "code",
   "execution_count": 433,
   "metadata": {},
   "outputs": [],
   "source": [
    "# Split the data into training and testing sets\n",
    "X_train, X_test, y_train, y_test = train_test_split(features_encoded, df[target_variable], test_size=0.2, random_state=42)"
   ]
  },
  {
   "cell_type": "code",
   "execution_count": 434,
   "metadata": {},
   "outputs": [],
   "source": [
    "# Train and evaluate Decision Tree model\n",
    "decision_tree_model = DecisionTreeClassifier(random_state=42)\n",
    "decision_tree_model.fit(X_train, y_train)\n",
    "dt_predictions = decision_tree_model.predict(X_test)"
   ]
  },
  {
   "cell_type": "code",
   "execution_count": 435,
   "metadata": {},
   "outputs": [
    {
     "name": "stdout",
     "output_type": "stream",
     "text": [
      "Decision Tree Accuracy: 0.7789115646258503\n",
      "Classification Report for Decision Tree:\n",
      "              precision    recall  f1-score   support\n",
      "\n",
      "          No       0.88      0.86      0.87       255\n",
      "         Yes       0.20      0.23      0.22        39\n",
      "\n",
      "    accuracy                           0.78       294\n",
      "   macro avg       0.54      0.55      0.54       294\n",
      "weighted avg       0.79      0.78      0.78       294\n",
      "\n"
     ]
    }
   ],
   "source": [
    "# Evaluate Decision Tree model\n",
    "dt_accuracy = accuracy_score(y_test, dt_predictions)\n",
    "print(\"Decision Tree Accuracy:\", dt_accuracy)\n",
    "print(\"Classification Report for Decision Tree:\")\n",
    "print(classification_report(y_test, dt_predictions))"
   ]
  },
  {
   "cell_type": "code",
   "execution_count": 436,
   "metadata": {},
   "outputs": [],
   "source": [
    "# Train and evaluate Naïve Bayes model\n",
    "naive_bayes_model = GaussianNB()\n",
    "naive_bayes_model.fit(X_train, y_train)\n",
    "nb_predictions = naive_bayes_model.predict(X_test)"
   ]
  },
  {
   "cell_type": "code",
   "execution_count": 437,
   "metadata": {},
   "outputs": [
    {
     "name": "stdout",
     "output_type": "stream",
     "text": [
      "\n",
      "Naïve Bayes Accuracy: 0.7721088435374149\n",
      "Classification Report for Naïve Bayes:\n",
      "              precision    recall  f1-score   support\n",
      "\n",
      "          No       0.92      0.80      0.86       255\n",
      "         Yes       0.31      0.56      0.40        39\n",
      "\n",
      "    accuracy                           0.77       294\n",
      "   macro avg       0.61      0.68      0.63       294\n",
      "weighted avg       0.84      0.77      0.80       294\n",
      "\n"
     ]
    }
   ],
   "source": [
    "# Evaluate Naïve Bayes model\n",
    "nb_accuracy = accuracy_score(y_test, nb_predictions)\n",
    "print(\"\\nNaïve Bayes Accuracy:\", nb_accuracy)\n",
    "print(\"Classification Report for Naïve Bayes:\")\n",
    "print(classification_report(y_test, nb_predictions))"
   ]
  },
  {
   "cell_type": "code",
   "execution_count": 438,
   "metadata": {},
   "outputs": [
    {
     "name": "stdout",
     "output_type": "stream",
     "text": [
      "\n",
      "Recommended Model: Decision Tree\n"
     ]
    }
   ],
   "source": [
    "# model with the highest accuracy\n",
    "if dt_accuracy > nb_accuracy:\n",
    "    recommended_model = \"Decision Tree\"\n",
    "else:\n",
    "    recommended_model = \"Naïve Bayes\"\n",
    "\n",
    "print(\"\\nRecommended Model:\", recommended_model)"
   ]
  },
  {
   "cell_type": "markdown",
   "metadata": {},
   "source": [
    "## Unsupervised machine learning: clustering"
   ]
  },
  {
   "cell_type": "code",
   "execution_count": 439,
   "metadata": {},
   "outputs": [],
   "source": [
    "scaler = StandardScaler()\n",
    "features_standardized = scaler.fit_transform(features_encoded)"
   ]
  },
  {
   "cell_type": "code",
   "execution_count": 440,
   "metadata": {},
   "outputs": [],
   "source": [
    "# applying K-Means clustering with different cluster configurations\n",
    "max_clusters = 10  \n",
    "best_silhouette_score = -1  "
   ]
  },
  {
   "cell_type": "code",
   "execution_count": 441,
   "metadata": {},
   "outputs": [
    {
     "name": "stderr",
     "output_type": "stream",
     "text": [
      "/Users/martinthuren/anaconda3/lib/python3.11/site-packages/sklearn/cluster/_kmeans.py:1412: FutureWarning: The default value of `n_init` will change from 10 to 'auto' in 1.4. Set the value of `n_init` explicitly to suppress the warning\n",
      "  super()._check_params_vs_input(X, default_n_init=10)\n"
     ]
    },
    {
     "name": "stdout",
     "output_type": "stream",
     "text": [
      "Number of clusters: 2, Silhouette Score: 0.10629682804860625\n"
     ]
    },
    {
     "name": "stderr",
     "output_type": "stream",
     "text": [
      "/Users/martinthuren/anaconda3/lib/python3.11/site-packages/sklearn/cluster/_kmeans.py:1412: FutureWarning: The default value of `n_init` will change from 10 to 'auto' in 1.4. Set the value of `n_init` explicitly to suppress the warning\n",
      "  super()._check_params_vs_input(X, default_n_init=10)\n"
     ]
    },
    {
     "name": "stdout",
     "output_type": "stream",
     "text": [
      "Number of clusters: 3, Silhouette Score: 0.07920346107624013\n"
     ]
    },
    {
     "name": "stderr",
     "output_type": "stream",
     "text": [
      "/Users/martinthuren/anaconda3/lib/python3.11/site-packages/sklearn/cluster/_kmeans.py:1412: FutureWarning: The default value of `n_init` will change from 10 to 'auto' in 1.4. Set the value of `n_init` explicitly to suppress the warning\n",
      "  super()._check_params_vs_input(X, default_n_init=10)\n"
     ]
    },
    {
     "name": "stdout",
     "output_type": "stream",
     "text": [
      "Number of clusters: 4, Silhouette Score: 0.07504590461373561\n"
     ]
    },
    {
     "name": "stderr",
     "output_type": "stream",
     "text": [
      "/Users/martinthuren/anaconda3/lib/python3.11/site-packages/sklearn/cluster/_kmeans.py:1412: FutureWarning: The default value of `n_init` will change from 10 to 'auto' in 1.4. Set the value of `n_init` explicitly to suppress the warning\n",
      "  super()._check_params_vs_input(X, default_n_init=10)\n"
     ]
    },
    {
     "name": "stdout",
     "output_type": "stream",
     "text": [
      "Number of clusters: 5, Silhouette Score: 0.05940594834522969\n"
     ]
    },
    {
     "name": "stderr",
     "output_type": "stream",
     "text": [
      "/Users/martinthuren/anaconda3/lib/python3.11/site-packages/sklearn/cluster/_kmeans.py:1412: FutureWarning: The default value of `n_init` will change from 10 to 'auto' in 1.4. Set the value of `n_init` explicitly to suppress the warning\n",
      "  super()._check_params_vs_input(X, default_n_init=10)\n"
     ]
    },
    {
     "name": "stdout",
     "output_type": "stream",
     "text": [
      "Number of clusters: 6, Silhouette Score: 0.09487284778825579\n"
     ]
    },
    {
     "name": "stderr",
     "output_type": "stream",
     "text": [
      "/Users/martinthuren/anaconda3/lib/python3.11/site-packages/sklearn/cluster/_kmeans.py:1412: FutureWarning: The default value of `n_init` will change from 10 to 'auto' in 1.4. Set the value of `n_init` explicitly to suppress the warning\n",
      "  super()._check_params_vs_input(X, default_n_init=10)\n"
     ]
    },
    {
     "name": "stdout",
     "output_type": "stream",
     "text": [
      "Number of clusters: 7, Silhouette Score: 0.09270308940592639\n"
     ]
    },
    {
     "name": "stderr",
     "output_type": "stream",
     "text": [
      "/Users/martinthuren/anaconda3/lib/python3.11/site-packages/sklearn/cluster/_kmeans.py:1412: FutureWarning: The default value of `n_init` will change from 10 to 'auto' in 1.4. Set the value of `n_init` explicitly to suppress the warning\n",
      "  super()._check_params_vs_input(X, default_n_init=10)\n"
     ]
    },
    {
     "name": "stdout",
     "output_type": "stream",
     "text": [
      "Number of clusters: 8, Silhouette Score: 0.10469346798365685\n"
     ]
    },
    {
     "name": "stderr",
     "output_type": "stream",
     "text": [
      "/Users/martinthuren/anaconda3/lib/python3.11/site-packages/sklearn/cluster/_kmeans.py:1412: FutureWarning: The default value of `n_init` will change from 10 to 'auto' in 1.4. Set the value of `n_init` explicitly to suppress the warning\n",
      "  super()._check_params_vs_input(X, default_n_init=10)\n"
     ]
    },
    {
     "name": "stdout",
     "output_type": "stream",
     "text": [
      "Number of clusters: 9, Silhouette Score: 0.11526092725689009\n"
     ]
    },
    {
     "name": "stderr",
     "output_type": "stream",
     "text": [
      "/Users/martinthuren/anaconda3/lib/python3.11/site-packages/sklearn/cluster/_kmeans.py:1412: FutureWarning: The default value of `n_init` will change from 10 to 'auto' in 1.4. Set the value of `n_init` explicitly to suppress the warning\n",
      "  super()._check_params_vs_input(X, default_n_init=10)\n"
     ]
    },
    {
     "name": "stdout",
     "output_type": "stream",
     "text": [
      "Number of clusters: 10, Silhouette Score: 0.09870636701818405\n",
      "\n",
      "Best Cluster Configuration:\n",
      "Number of clusters: 9, Silhouette Score: 0.11526092725689009\n"
     ]
    }
   ],
   "source": [
    "for n_clusters in range(2, max_clusters + 1):\n",
    "    kmeans = KMeans(n_clusters=n_clusters, random_state=42)\n",
    "    labels = kmeans.fit_predict(features_standardized)\n",
    "    silhouette_avg = silhouette_score(features_standardized, labels)\n",
    "    \n",
    "    print(f'Number of clusters: {n_clusters}, Silhouette Score: {silhouette_avg}')\n",
    "\n",
    "    if silhouette_avg > best_silhouette_score:\n",
    "        best_silhouette_score = silhouette_avg\n",
    "        best_n_clusters = n_clusters\n",
    "        best_kmeans_model = kmeans\n",
    "\n",
    "print(\"\\nBest Cluster Configuration:\")\n",
    "print(f'Number of clusters: {best_n_clusters}, Silhouette Score: {best_silhouette_score}')\n"
   ]
  },
  {
   "cell_type": "code",
   "execution_count": 442,
   "metadata": {},
   "outputs": [],
   "source": [
    "# Assigning cluster labels to the original dataset\n",
    "df['Cluster_Labels'] = best_kmeans_model.predict(features_standardized)"
   ]
  },
  {
   "cell_type": "code",
   "execution_count": 443,
   "metadata": {},
   "outputs": [
    {
     "name": "stdout",
     "output_type": "stream",
     "text": [
      "\n",
      "Cluster Means:\n",
      "                      Age   DailyRate  DistanceFromHome  Education  \\\n",
      "Cluster_Labels                                                       \n",
      "0               44.000000  802.450000          8.437500   3.125000   \n",
      "1               39.809160  854.251908          9.786260   2.992366   \n",
      "2               36.824615  802.467692          9.658462   3.012308   \n",
      "3               38.296552  796.020690          9.482759   2.896552   \n",
      "4               46.873786  781.970874          8.048544   3.029126   \n",
      "5               34.096525  796.617761          9.409266   2.772201   \n",
      "6               30.361446  811.349398          8.662651   2.530120   \n",
      "7               34.236301  800.359589          9.013699   2.914384   \n",
      "8               35.500000  757.923077          8.173077   2.884615   \n",
      "\n",
      "                EmployeeCount  EmployeeNumber  EnvironmentSatisfaction  \\\n",
      "Cluster_Labels                                                           \n",
      "0                         1.0      989.787500                 2.500000   \n",
      "1                         1.0     1074.786260                 2.770992   \n",
      "2                         1.0     1053.923077                 2.667692   \n",
      "3                         1.0      998.758621                 2.917241   \n",
      "4                         1.0      939.669903                 2.776699   \n",
      "5                         1.0      999.200772                 2.718147   \n",
      "6                         1.0     1040.253012                 2.734940   \n",
      "7                         1.0     1003.486301                 2.726027   \n",
      "8                         1.0     1236.326923                 2.596154   \n",
      "\n",
      "                HourlyRate  JobInvolvement  JobLevel  ...  StandardHours  \\\n",
      "Cluster_Labels                                        ...                  \n",
      "0                63.762500        2.775000  3.975000  ...           80.0   \n",
      "1                66.839695        2.732824  2.473282  ...           80.0   \n",
      "2                65.526154        2.713846  2.323077  ...           80.0   \n",
      "3                65.006897        2.682759  2.448276  ...           80.0   \n",
      "4                66.543689        2.776699  4.300971  ...           80.0   \n",
      "5                66.683398        2.694981  1.239382  ...           80.0   \n",
      "6                64.337349        2.650602  1.084337  ...           80.0   \n",
      "7                66.708904        2.797945  1.202055  ...           80.0   \n",
      "8                64.173077        2.711538  1.480769  ...           80.0   \n",
      "\n",
      "                StockOptionLevel  TotalWorkingYears  TrainingTimesLastYear  \\\n",
      "Cluster_Labels                                                               \n",
      "0                       0.850000          21.400000               2.775000   \n",
      "1                       0.832061          14.068702               2.748092   \n",
      "2                       0.821538          11.018462               2.836923   \n",
      "3                       0.813793          12.786207               2.744828   \n",
      "4                       0.737864          24.679612               2.796117   \n",
      "5                       0.818533           7.656371               2.949807   \n",
      "6                       0.626506           4.674699               3.012048   \n",
      "7                       0.773973           7.715753               2.664384   \n",
      "8                       0.750000           8.173077               2.557692   \n",
      "\n",
      "                WorkLifeBalance  YearsAtCompany  YearsInCurrentRole  \\\n",
      "Cluster_Labels                                                        \n",
      "0                      2.862500       10.937500            6.287500   \n",
      "1                      2.702290        8.374046            4.862595   \n",
      "2                      2.806154        7.406154            4.840000   \n",
      "3                      2.765517        7.600000            4.972414   \n",
      "4                      2.766990       14.650485            6.485437   \n",
      "5                      2.718147        5.019305            3.200772   \n",
      "6                      2.891566        2.915663            2.012048   \n",
      "7                      2.678082        5.113014            3.273973   \n",
      "8                      2.923077        5.326923            3.134615   \n",
      "\n",
      "                YearsSinceLastPromotion  YearsWithCurrManager  Cluster_Labels  \n",
      "Cluster_Labels                                                                 \n",
      "0                              3.187500              6.075000             0.0  \n",
      "1                              2.969466              4.572519             1.0  \n",
      "2                              2.489231              4.667692             2.0  \n",
      "3                              2.117241              4.944828             3.0  \n",
      "4                              4.796117              6.291262             4.0  \n",
      "5                              1.420849              3.297297             5.0  \n",
      "6                              1.060241              1.662651             6.0  \n",
      "7                              1.506849              3.208904             7.0  \n",
      "8                              1.269231              3.173077             8.0  \n",
      "\n",
      "[9 rows x 27 columns]\n"
     ]
    }
   ],
   "source": [
    "# Explore the clusters, excluding non-numeric columns\n",
    "numeric_columns = df.select_dtypes(include=['number']).columns\n",
    "cluster_means = df.groupby('Cluster_Labels')[numeric_columns].mean()\n",
    "print(\"\\nCluster Means:\")\n",
    "print(cluster_means)"
   ]
  },
  {
   "cell_type": "markdown",
   "metadata": {},
   "source": [
    "## Machine Learning application"
   ]
  },
  {
   "cell_type": "code",
   "execution_count": 444,
   "metadata": {},
   "outputs": [],
   "source": [
    "# ?"
   ]
  },
  {
   "cell_type": "markdown",
   "metadata": {},
   "source": [
    "## Analyzing why people may leave their job"
   ]
  },
  {
   "cell_type": "code",
   "execution_count": 445,
   "metadata": {},
   "outputs": [],
   "source": [
    "target_variable = 'Attrition'"
   ]
  },
  {
   "cell_type": "code",
   "execution_count": 446,
   "metadata": {},
   "outputs": [],
   "source": [
    "# Separate features and target variable\n",
    "X = df.drop(columns=[target_variable])\n",
    "y = df[target_variable]"
   ]
  },
  {
   "cell_type": "code",
   "execution_count": 447,
   "metadata": {},
   "outputs": [],
   "source": [
    "# One-hot encode categorical variables\n",
    "X_encoded = pd.get_dummies(X)"
   ]
  },
  {
   "cell_type": "code",
   "execution_count": 448,
   "metadata": {},
   "outputs": [],
   "source": [
    "# Splitting the data into training and testing sets\n",
    "X_train, X_test, y_train, y_test = train_test_split(X_encoded, y, test_size=0.2, random_state=42)\n"
   ]
  },
  {
   "cell_type": "code",
   "execution_count": 449,
   "metadata": {},
   "outputs": [],
   "source": [
    "# Standardize the features\n",
    "scaler = StandardScaler()\n",
    "X_train_standardized = scaler.fit_transform(X_train)\n",
    "X_test_standardized = scaler.transform(X_test)"
   ]
  },
  {
   "cell_type": "code",
   "execution_count": 450,
   "metadata": {},
   "outputs": [
    {
     "data": {
      "text/html": [
       "<style>#sk-container-id-22 {color: black;}#sk-container-id-22 pre{padding: 0;}#sk-container-id-22 div.sk-toggleable {background-color: white;}#sk-container-id-22 label.sk-toggleable__label {cursor: pointer;display: block;width: 100%;margin-bottom: 0;padding: 0.3em;box-sizing: border-box;text-align: center;}#sk-container-id-22 label.sk-toggleable__label-arrow:before {content: \"▸\";float: left;margin-right: 0.25em;color: #696969;}#sk-container-id-22 label.sk-toggleable__label-arrow:hover:before {color: black;}#sk-container-id-22 div.sk-estimator:hover label.sk-toggleable__label-arrow:before {color: black;}#sk-container-id-22 div.sk-toggleable__content {max-height: 0;max-width: 0;overflow: hidden;text-align: left;background-color: #f0f8ff;}#sk-container-id-22 div.sk-toggleable__content pre {margin: 0.2em;color: black;border-radius: 0.25em;background-color: #f0f8ff;}#sk-container-id-22 input.sk-toggleable__control:checked~div.sk-toggleable__content {max-height: 200px;max-width: 100%;overflow: auto;}#sk-container-id-22 input.sk-toggleable__control:checked~label.sk-toggleable__label-arrow:before {content: \"▾\";}#sk-container-id-22 div.sk-estimator input.sk-toggleable__control:checked~label.sk-toggleable__label {background-color: #d4ebff;}#sk-container-id-22 div.sk-label input.sk-toggleable__control:checked~label.sk-toggleable__label {background-color: #d4ebff;}#sk-container-id-22 input.sk-hidden--visually {border: 0;clip: rect(1px 1px 1px 1px);clip: rect(1px, 1px, 1px, 1px);height: 1px;margin: -1px;overflow: hidden;padding: 0;position: absolute;width: 1px;}#sk-container-id-22 div.sk-estimator {font-family: monospace;background-color: #f0f8ff;border: 1px dotted black;border-radius: 0.25em;box-sizing: border-box;margin-bottom: 0.5em;}#sk-container-id-22 div.sk-estimator:hover {background-color: #d4ebff;}#sk-container-id-22 div.sk-parallel-item::after {content: \"\";width: 100%;border-bottom: 1px solid gray;flex-grow: 1;}#sk-container-id-22 div.sk-label:hover label.sk-toggleable__label {background-color: #d4ebff;}#sk-container-id-22 div.sk-serial::before {content: \"\";position: absolute;border-left: 1px solid gray;box-sizing: border-box;top: 0;bottom: 0;left: 50%;z-index: 0;}#sk-container-id-22 div.sk-serial {display: flex;flex-direction: column;align-items: center;background-color: white;padding-right: 0.2em;padding-left: 0.2em;position: relative;}#sk-container-id-22 div.sk-item {position: relative;z-index: 1;}#sk-container-id-22 div.sk-parallel {display: flex;align-items: stretch;justify-content: center;background-color: white;position: relative;}#sk-container-id-22 div.sk-item::before, #sk-container-id-22 div.sk-parallel-item::before {content: \"\";position: absolute;border-left: 1px solid gray;box-sizing: border-box;top: 0;bottom: 0;left: 50%;z-index: -1;}#sk-container-id-22 div.sk-parallel-item {display: flex;flex-direction: column;z-index: 1;position: relative;background-color: white;}#sk-container-id-22 div.sk-parallel-item:first-child::after {align-self: flex-end;width: 50%;}#sk-container-id-22 div.sk-parallel-item:last-child::after {align-self: flex-start;width: 50%;}#sk-container-id-22 div.sk-parallel-item:only-child::after {width: 0;}#sk-container-id-22 div.sk-dashed-wrapped {border: 1px dashed gray;margin: 0 0.4em 0.5em 0.4em;box-sizing: border-box;padding-bottom: 0.4em;background-color: white;}#sk-container-id-22 div.sk-label label {font-family: monospace;font-weight: bold;display: inline-block;line-height: 1.2em;}#sk-container-id-22 div.sk-label-container {text-align: center;}#sk-container-id-22 div.sk-container {/* jupyter's `normalize.less` sets `[hidden] { display: none; }` but bootstrap.min.css set `[hidden] { display: none !important; }` so we also need the `!important` here to be able to override the default hidden behavior on the sphinx rendered scikit-learn.org. See: https://github.com/scikit-learn/scikit-learn/issues/21755 */display: inline-block !important;position: relative;}#sk-container-id-22 div.sk-text-repr-fallback {display: none;}</style><div id=\"sk-container-id-22\" class=\"sk-top-container\"><div class=\"sk-text-repr-fallback\"><pre>LogisticRegression()</pre><b>In a Jupyter environment, please rerun this cell to show the HTML representation or trust the notebook. <br />On GitHub, the HTML representation is unable to render, please try loading this page with nbviewer.org.</b></div><div class=\"sk-container\" hidden><div class=\"sk-item\"><div class=\"sk-estimator sk-toggleable\"><input class=\"sk-toggleable__control sk-hidden--visually\" id=\"sk-estimator-id-22\" type=\"checkbox\" checked><label for=\"sk-estimator-id-22\" class=\"sk-toggleable__label sk-toggleable__label-arrow\">LogisticRegression</label><div class=\"sk-toggleable__content\"><pre>LogisticRegression()</pre></div></div></div></div></div>"
      ],
      "text/plain": [
       "LogisticRegression()"
      ]
     },
     "execution_count": 450,
     "metadata": {},
     "output_type": "execute_result"
    }
   ],
   "source": [
    "# Train a Logistic Regression model\n",
    "model = LogisticRegression()\n",
    "model.fit(X_train_standardized, y_train)"
   ]
  },
  {
   "cell_type": "code",
   "execution_count": 451,
   "metadata": {},
   "outputs": [],
   "source": [
    "# Create a DataFrame to display feature names and their corresponding coefficients\n",
    "coefficients_df = pd.DataFrame({\n",
    "    'Feature': X_encoded.columns,\n",
    "    'Coefficient': model.coef_[0]\n",
    "})"
   ]
  },
  {
   "cell_type": "code",
   "execution_count": 452,
   "metadata": {},
   "outputs": [],
   "source": [
    "# Sort the DataFrame by descending order\n",
    "coefficients_df['Absolute Coefficient'] = np.abs(coefficients_df['Coefficient'])\n",
    "coefficients_df = coefficients_df.sort_values(by='Absolute Coefficient', ascending=False)\n"
   ]
  },
  {
   "cell_type": "code",
   "execution_count": 453,
   "metadata": {},
   "outputs": [
    {
     "name": "stdout",
     "output_type": "stream",
     "text": [
      "Top Features Contributing to Attrition:\n",
      "                      Feature  Coefficient\n",
      "22             YearsAtCompany     0.683783\n",
      "23         YearsInCurrentRole    -0.655445\n",
      "13         NumCompaniesWorked     0.505497\n",
      "24    YearsSinceLastPromotion     0.503177\n",
      "54                OverTime_No    -0.490742\n",
      "55               OverTime_Yes     0.490742\n",
      "25       YearsWithCurrManager    -0.472199\n",
      "19          TotalWorkingYears    -0.455685\n",
      "10            JobSatisfaction    -0.439129\n",
      "46  JobRole_Research Director    -0.420974\n"
     ]
    }
   ],
   "source": [
    "# Display the top features contributing to attrition\n",
    "top_features = coefficients_df[['Feature', 'Coefficient']].head(10)\n",
    "print(\"Top Features Contributing to Attrition:\")\n",
    "print(top_features)"
   ]
  },
  {
   "cell_type": "markdown",
   "metadata": {},
   "source": [
    "## Work positions and departments that are at a higher risk of losing employees"
   ]
  },
  {
   "cell_type": "code",
   "execution_count": 454,
   "metadata": {},
   "outputs": [],
   "source": [
    "target_variable = 'Attrition'"
   ]
  },
  {
   "cell_type": "code",
   "execution_count": 455,
   "metadata": {},
   "outputs": [],
   "source": [
    "# Separate features and target variable\n",
    "X = df.drop(columns=[target_variable])\n",
    "y = df[target_variable]"
   ]
  },
  {
   "cell_type": "code",
   "execution_count": 456,
   "metadata": {},
   "outputs": [],
   "source": [
    "# One-hot encode categorical variables\n",
    "X_encoded = pd.get_dummies(X)"
   ]
  },
  {
   "cell_type": "code",
   "execution_count": 457,
   "metadata": {},
   "outputs": [],
   "source": [
    "# Split the data into training and testing sets\n",
    "X_train, X_test, y_train, y_test = train_test_split(X_encoded, y, test_size=0.2, random_state=42)"
   ]
  },
  {
   "cell_type": "code",
   "execution_count": 458,
   "metadata": {},
   "outputs": [],
   "source": [
    "# Standardize the features\n",
    "scaler = StandardScaler()\n",
    "X_train_standardized = scaler.fit_transform(X_train)\n",
    "X_test_standardized = scaler.transform(X_test)"
   ]
  },
  {
   "cell_type": "code",
   "execution_count": 459,
   "metadata": {},
   "outputs": [
    {
     "data": {
      "text/html": [
       "<style>#sk-container-id-23 {color: black;}#sk-container-id-23 pre{padding: 0;}#sk-container-id-23 div.sk-toggleable {background-color: white;}#sk-container-id-23 label.sk-toggleable__label {cursor: pointer;display: block;width: 100%;margin-bottom: 0;padding: 0.3em;box-sizing: border-box;text-align: center;}#sk-container-id-23 label.sk-toggleable__label-arrow:before {content: \"▸\";float: left;margin-right: 0.25em;color: #696969;}#sk-container-id-23 label.sk-toggleable__label-arrow:hover:before {color: black;}#sk-container-id-23 div.sk-estimator:hover label.sk-toggleable__label-arrow:before {color: black;}#sk-container-id-23 div.sk-toggleable__content {max-height: 0;max-width: 0;overflow: hidden;text-align: left;background-color: #f0f8ff;}#sk-container-id-23 div.sk-toggleable__content pre {margin: 0.2em;color: black;border-radius: 0.25em;background-color: #f0f8ff;}#sk-container-id-23 input.sk-toggleable__control:checked~div.sk-toggleable__content {max-height: 200px;max-width: 100%;overflow: auto;}#sk-container-id-23 input.sk-toggleable__control:checked~label.sk-toggleable__label-arrow:before {content: \"▾\";}#sk-container-id-23 div.sk-estimator input.sk-toggleable__control:checked~label.sk-toggleable__label {background-color: #d4ebff;}#sk-container-id-23 div.sk-label input.sk-toggleable__control:checked~label.sk-toggleable__label {background-color: #d4ebff;}#sk-container-id-23 input.sk-hidden--visually {border: 0;clip: rect(1px 1px 1px 1px);clip: rect(1px, 1px, 1px, 1px);height: 1px;margin: -1px;overflow: hidden;padding: 0;position: absolute;width: 1px;}#sk-container-id-23 div.sk-estimator {font-family: monospace;background-color: #f0f8ff;border: 1px dotted black;border-radius: 0.25em;box-sizing: border-box;margin-bottom: 0.5em;}#sk-container-id-23 div.sk-estimator:hover {background-color: #d4ebff;}#sk-container-id-23 div.sk-parallel-item::after {content: \"\";width: 100%;border-bottom: 1px solid gray;flex-grow: 1;}#sk-container-id-23 div.sk-label:hover label.sk-toggleable__label {background-color: #d4ebff;}#sk-container-id-23 div.sk-serial::before {content: \"\";position: absolute;border-left: 1px solid gray;box-sizing: border-box;top: 0;bottom: 0;left: 50%;z-index: 0;}#sk-container-id-23 div.sk-serial {display: flex;flex-direction: column;align-items: center;background-color: white;padding-right: 0.2em;padding-left: 0.2em;position: relative;}#sk-container-id-23 div.sk-item {position: relative;z-index: 1;}#sk-container-id-23 div.sk-parallel {display: flex;align-items: stretch;justify-content: center;background-color: white;position: relative;}#sk-container-id-23 div.sk-item::before, #sk-container-id-23 div.sk-parallel-item::before {content: \"\";position: absolute;border-left: 1px solid gray;box-sizing: border-box;top: 0;bottom: 0;left: 50%;z-index: -1;}#sk-container-id-23 div.sk-parallel-item {display: flex;flex-direction: column;z-index: 1;position: relative;background-color: white;}#sk-container-id-23 div.sk-parallel-item:first-child::after {align-self: flex-end;width: 50%;}#sk-container-id-23 div.sk-parallel-item:last-child::after {align-self: flex-start;width: 50%;}#sk-container-id-23 div.sk-parallel-item:only-child::after {width: 0;}#sk-container-id-23 div.sk-dashed-wrapped {border: 1px dashed gray;margin: 0 0.4em 0.5em 0.4em;box-sizing: border-box;padding-bottom: 0.4em;background-color: white;}#sk-container-id-23 div.sk-label label {font-family: monospace;font-weight: bold;display: inline-block;line-height: 1.2em;}#sk-container-id-23 div.sk-label-container {text-align: center;}#sk-container-id-23 div.sk-container {/* jupyter's `normalize.less` sets `[hidden] { display: none; }` but bootstrap.min.css set `[hidden] { display: none !important; }` so we also need the `!important` here to be able to override the default hidden behavior on the sphinx rendered scikit-learn.org. See: https://github.com/scikit-learn/scikit-learn/issues/21755 */display: inline-block !important;position: relative;}#sk-container-id-23 div.sk-text-repr-fallback {display: none;}</style><div id=\"sk-container-id-23\" class=\"sk-top-container\"><div class=\"sk-text-repr-fallback\"><pre>LogisticRegression()</pre><b>In a Jupyter environment, please rerun this cell to show the HTML representation or trust the notebook. <br />On GitHub, the HTML representation is unable to render, please try loading this page with nbviewer.org.</b></div><div class=\"sk-container\" hidden><div class=\"sk-item\"><div class=\"sk-estimator sk-toggleable\"><input class=\"sk-toggleable__control sk-hidden--visually\" id=\"sk-estimator-id-23\" type=\"checkbox\" checked><label for=\"sk-estimator-id-23\" class=\"sk-toggleable__label sk-toggleable__label-arrow\">LogisticRegression</label><div class=\"sk-toggleable__content\"><pre>LogisticRegression()</pre></div></div></div></div></div>"
      ],
      "text/plain": [
       "LogisticRegression()"
      ]
     },
     "execution_count": 459,
     "metadata": {},
     "output_type": "execute_result"
    }
   ],
   "source": [
    "# Train a Logistic Regression model\n",
    "model = LogisticRegression()\n",
    "model.fit(X_train_standardized, y_train)"
   ]
  },
  {
   "cell_type": "code",
   "execution_count": 460,
   "metadata": {},
   "outputs": [],
   "source": [
    "# Create a DataFrame to display feature names and their corresponding coefficients\n",
    "coefficients_df = pd.DataFrame({\n",
    "    'Feature': X_encoded.columns,\n",
    "    'Coefficient': model.coef_[0]\n",
    "})"
   ]
  },
  {
   "cell_type": "code",
   "execution_count": 461,
   "metadata": {},
   "outputs": [],
   "source": [
    "# Sort the DataFrame by descending order\n",
    "coefficients_df = coefficients_df.sort_values(by='Coefficient', ascending=False)\n"
   ]
  },
  {
   "cell_type": "code",
   "execution_count": 462,
   "metadata": {},
   "outputs": [
    {
     "name": "stdout",
     "output_type": "stream",
     "text": [
      "Top Features Contributing to Attrition:\n",
      "                             Feature  Coefficient\n",
      "22                    YearsAtCompany     0.683783\n",
      "13                NumCompaniesWorked     0.505497\n",
      "24           YearsSinceLastPromotion     0.503177\n",
      "55                      OverTime_Yes     0.490742\n",
      "52              MaritalStatus_Single     0.352562\n",
      "43     JobRole_Laboratory Technician     0.350732\n",
      "2                   DistanceFromHome     0.346233\n",
      "42           JobRole_Human Resources     0.311889\n",
      "28  BusinessTravel_Travel_Frequently     0.297989\n",
      "26                    Cluster_Labels     0.283850\n"
     ]
    }
   ],
   "source": [
    "# Display the top features contributing to attrition\n",
    "top_features = coefficients_df[['Feature', 'Coefficient']].head(10)\n",
    "print(\"Top Features Contributing to Attrition:\")\n",
    "print(top_features)"
   ]
  },
  {
   "cell_type": "code",
   "execution_count": 463,
   "metadata": {},
   "outputs": [],
   "source": [
    "# Extract work positions and departments\n",
    "work_positions = df['JobRole'].unique()\n",
    "departments = df['Department'].unique()"
   ]
  },
  {
   "cell_type": "code",
   "execution_count": 464,
   "metadata": {},
   "outputs": [],
   "source": [
    "# Calculate the risk for each work position and department\n",
    "risk_dict = {}\n",
    "for position in work_positions:\n",
    "    risk_dict[position] = np.sum(coefficients_df.loc[coefficients_df['Feature'].str.contains(position)]['Coefficient'])\n",
    "\n",
    "for department in departments:\n",
    "    risk_dict[department] = np.sum(coefficients_df.loc[coefficients_df['Feature'].str.contains(department)]['Coefficient'])\n"
   ]
  },
  {
   "cell_type": "code",
   "execution_count": 465,
   "metadata": {},
   "outputs": [],
   "source": [
    "# Sort the dictionary by risk in descending order\n",
    "sorted_risk_dict = dict(sorted(risk_dict.items(), key=lambda item: item[1], reverse=True))\n"
   ]
  },
  {
   "cell_type": "code",
   "execution_count": 466,
   "metadata": {},
   "outputs": [
    {
     "name": "stdout",
     "output_type": "stream",
     "text": [
      "\n",
      "Risk of Attrition by Work Position and Department:\n",
      "Sales: 0.5355338409512426\n",
      "Laboratory Technician: 0.3507319328299821\n",
      "Sales Representative: 0.2559837135177366\n",
      "Sales Executive: 0.15074641182287235\n",
      "Human Resources: 0.1046415462277977\n",
      "Research & Development: -0.00016147846393303132\n",
      "Manufacturing Director: -0.10202422921894971\n",
      "Research Scientist: -0.16024513735024856\n",
      "Healthcare Representative: -0.25153067439521754\n",
      "Research Director: -0.42097440216864673\n",
      "Manager: -0.6765702700694726\n"
     ]
    }
   ],
   "source": [
    "# Display the risk for each work position and department\n",
    "print(\"\\nRisk of Attrition by Work Position and Department:\")\n",
    "for key, value in sorted_risk_dict.items():\n",
    "    print(f\"{key}: {value}\")"
   ]
  },
  {
   "cell_type": "markdown",
   "metadata": {},
   "source": [
    "## Checking to see if genders are paid equally in all departments"
   ]
  },
  {
   "cell_type": "code",
   "execution_count": 467,
   "metadata": {},
   "outputs": [],
   "source": [
    "from scipy.stats import ttest_ind"
   ]
  },
  {
   "cell_type": "code",
   "execution_count": 468,
   "metadata": {},
   "outputs": [],
   "source": [
    "# Extract relevant columns for analysis\n",
    "pay_data = df[['Gender', 'Department', 'MonthlyIncome']]"
   ]
  },
  {
   "cell_type": "code",
   "execution_count": 469,
   "metadata": {},
   "outputs": [],
   "source": [
    "# Separate data for each gender\n",
    "male_pay = pay_data[pay_data['Gender'] == 'Male']['MonthlyIncome']\n",
    "female_pay = pay_data[pay_data['Gender'] == 'Female']['MonthlyIncome']\n"
   ]
  },
  {
   "cell_type": "code",
   "execution_count": 470,
   "metadata": {},
   "outputs": [
    {
     "name": "stdout",
     "output_type": "stream",
     "text": [
      "Are employees in the 'Sales' department paid equally?\n",
      "Yes, there is no significant difference in pay.\n",
      "\n",
      "Are employees in the 'Research & Development' department paid equally?\n",
      "Yes, there is no significant difference in pay.\n",
      "\n",
      "Are employees in the 'Human Resources' department paid equally?\n",
      "Yes, there is no significant difference in pay.\n",
      "\n"
     ]
    }
   ],
   "source": [
    "# Perform t-test for each department\n",
    "departments = pay_data['Department'].unique()\n",
    "for department in departments:\n",
    "    male_pay_department = male_pay[pay_data['Department'] == department]\n",
    "    female_pay_department = female_pay[pay_data['Department'] == department]\n",
    "\n",
    "     # Perform t-test\n",
    "    t_stat, p_value = ttest_ind(male_pay_department, female_pay_department)\n",
    "    \n",
    "      # Print results\n",
    "    print(f\"Are employees in the '{department}' department paid equally?\")\n",
    "    if p_value < 0.05:\n",
    "        print(\"No, there is a significant difference in pay.\")\n",
    "    else:\n",
    "        print(\"Yes, there is no significant difference in pay.\")\n",
    "    print(\"\")\n",
    "    "
   ]
  },
  {
   "cell_type": "markdown",
   "metadata": {},
   "source": [
    "## Do family status and the distance from work influence work-life balance?"
   ]
  },
  {
   "cell_type": "code",
   "execution_count": 471,
   "metadata": {},
   "outputs": [],
   "source": [
    "# Extract relevant columns for analysis\n",
    "work_life_data = df[['MaritalStatus', 'DistanceFromHome', 'WorkLifeBalance']]\n"
   ]
  },
  {
   "cell_type": "code",
   "execution_count": 472,
   "metadata": {},
   "outputs": [
    {
     "name": "stdout",
     "output_type": "stream",
     "text": [
      "Does family status 'Single' and distance from work '1' influence work-life balance?\n",
      "No, there is no significant difference in work-life balance.\n",
      "\n",
      "Does family status 'Single' and distance from work '8' influence work-life balance?\n",
      "No, there is no significant difference in work-life balance.\n",
      "\n",
      "Does family status 'Single' and distance from work '2' influence work-life balance?\n",
      "No, there is no significant difference in work-life balance.\n",
      "\n",
      "Does family status 'Single' and distance from work '3' influence work-life balance?\n",
      "No, there is no significant difference in work-life balance.\n",
      "\n",
      "Does family status 'Single' and distance from work '24' influence work-life balance?\n",
      "No, there is no significant difference in work-life balance.\n",
      "\n",
      "Does family status 'Single' and distance from work '23' influence work-life balance?\n",
      "No, there is no significant difference in work-life balance.\n",
      "\n",
      "Does family status 'Single' and distance from work '27' influence work-life balance?\n",
      "No, there is no significant difference in work-life balance.\n",
      "\n",
      "Does family status 'Single' and distance from work '16' influence work-life balance?\n",
      "No, there is no significant difference in work-life balance.\n",
      "\n",
      "Does family status 'Single' and distance from work '15' influence work-life balance?\n",
      "No, there is no significant difference in work-life balance.\n",
      "\n",
      "Does family status 'Single' and distance from work '26' influence work-life balance?\n",
      "No, there is no significant difference in work-life balance.\n",
      "\n",
      "Does family status 'Single' and distance from work '19' influence work-life balance?\n",
      "No, there is no significant difference in work-life balance.\n",
      "\n",
      "Does family status 'Single' and distance from work '21' influence work-life balance?\n",
      "No, there is no significant difference in work-life balance.\n",
      "\n",
      "Does family status 'Single' and distance from work '5' influence work-life balance?\n",
      "No, there is no significant difference in work-life balance.\n",
      "\n",
      "Does family status 'Single' and distance from work '11' influence work-life balance?\n",
      "No, there is no significant difference in work-life balance.\n",
      "\n",
      "Does family status 'Single' and distance from work '9' influence work-life balance?\n",
      "No, there is no significant difference in work-life balance.\n",
      "\n",
      "Does family status 'Single' and distance from work '7' influence work-life balance?\n",
      "No, there is no significant difference in work-life balance.\n",
      "\n",
      "Does family status 'Single' and distance from work '6' influence work-life balance?\n",
      "No, there is no significant difference in work-life balance.\n",
      "\n",
      "Does family status 'Single' and distance from work '10' influence work-life balance?\n",
      "No, there is no significant difference in work-life balance.\n",
      "\n",
      "Does family status 'Single' and distance from work '4' influence work-life balance?\n",
      "No, there is no significant difference in work-life balance.\n",
      "\n",
      "Does family status 'Single' and distance from work '25' influence work-life balance?\n",
      "No, there is no significant difference in work-life balance.\n",
      "\n",
      "Does family status 'Single' and distance from work '12' influence work-life balance?\n",
      "No, there is no significant difference in work-life balance.\n",
      "\n",
      "Does family status 'Single' and distance from work '18' influence work-life balance?\n",
      "No, there is no significant difference in work-life balance.\n",
      "\n",
      "Does family status 'Single' and distance from work '29' influence work-life balance?\n",
      "No, there is no significant difference in work-life balance.\n",
      "\n",
      "Does family status 'Single' and distance from work '22' influence work-life balance?\n",
      "No, there is no significant difference in work-life balance.\n",
      "\n",
      "Does family status 'Single' and distance from work '14' influence work-life balance?\n",
      "No, there is no significant difference in work-life balance.\n",
      "\n",
      "Does family status 'Single' and distance from work '20' influence work-life balance?\n",
      "No, there is no significant difference in work-life balance.\n",
      "\n",
      "Does family status 'Single' and distance from work '28' influence work-life balance?\n",
      "No, there is no significant difference in work-life balance.\n",
      "\n",
      "Does family status 'Single' and distance from work '17' influence work-life balance?\n",
      "No, there is no significant difference in work-life balance.\n",
      "\n",
      "Does family status 'Single' and distance from work '13' influence work-life balance?\n",
      "No, there is no significant difference in work-life balance.\n",
      "\n",
      "Does family status 'Married' and distance from work '1' influence work-life balance?\n",
      "No, there is no significant difference in work-life balance.\n",
      "\n",
      "Does family status 'Married' and distance from work '8' influence work-life balance?\n",
      "No, there is no significant difference in work-life balance.\n",
      "\n",
      "Does family status 'Married' and distance from work '2' influence work-life balance?\n",
      "No, there is no significant difference in work-life balance.\n",
      "\n",
      "Does family status 'Married' and distance from work '3' influence work-life balance?\n",
      "No, there is no significant difference in work-life balance.\n",
      "\n",
      "Does family status 'Married' and distance from work '24' influence work-life balance?\n",
      "No, there is no significant difference in work-life balance.\n",
      "\n",
      "Does family status 'Married' and distance from work '23' influence work-life balance?\n",
      "No, there is no significant difference in work-life balance.\n",
      "\n",
      "Does family status 'Married' and distance from work '27' influence work-life balance?\n",
      "No, there is no significant difference in work-life balance.\n",
      "\n",
      "Does family status 'Married' and distance from work '16' influence work-life balance?\n",
      "No, there is no significant difference in work-life balance.\n",
      "\n",
      "Does family status 'Married' and distance from work '15' influence work-life balance?\n",
      "No, there is no significant difference in work-life balance.\n",
      "\n",
      "Does family status 'Married' and distance from work '26' influence work-life balance?\n",
      "No, there is no significant difference in work-life balance.\n",
      "\n",
      "Does family status 'Married' and distance from work '19' influence work-life balance?\n",
      "No, there is no significant difference in work-life balance.\n",
      "\n",
      "Does family status 'Married' and distance from work '21' influence work-life balance?\n",
      "No, there is no significant difference in work-life balance.\n",
      "\n",
      "Does family status 'Married' and distance from work '5' influence work-life balance?\n",
      "No, there is no significant difference in work-life balance.\n",
      "\n",
      "Does family status 'Married' and distance from work '11' influence work-life balance?\n",
      "No, there is no significant difference in work-life balance.\n",
      "\n",
      "Does family status 'Married' and distance from work '9' influence work-life balance?\n",
      "No, there is no significant difference in work-life balance.\n",
      "\n",
      "Does family status 'Married' and distance from work '7' influence work-life balance?\n",
      "No, there is no significant difference in work-life balance.\n",
      "\n",
      "Does family status 'Married' and distance from work '6' influence work-life balance?\n",
      "No, there is no significant difference in work-life balance.\n",
      "\n",
      "Does family status 'Married' and distance from work '10' influence work-life balance?\n",
      "No, there is no significant difference in work-life balance.\n",
      "\n",
      "Does family status 'Married' and distance from work '4' influence work-life balance?\n",
      "No, there is no significant difference in work-life balance.\n",
      "\n",
      "Does family status 'Married' and distance from work '25' influence work-life balance?\n",
      "No, there is no significant difference in work-life balance.\n",
      "\n",
      "Does family status 'Married' and distance from work '12' influence work-life balance?\n",
      "No, there is no significant difference in work-life balance.\n",
      "\n",
      "Does family status 'Married' and distance from work '18' influence work-life balance?\n",
      "No, there is no significant difference in work-life balance.\n",
      "\n",
      "Does family status 'Married' and distance from work '29' influence work-life balance?\n",
      "No, there is no significant difference in work-life balance.\n",
      "\n",
      "Does family status 'Married' and distance from work '22' influence work-life balance?\n",
      "No, there is no significant difference in work-life balance.\n",
      "\n",
      "Does family status 'Married' and distance from work '14' influence work-life balance?\n",
      "No, there is no significant difference in work-life balance.\n",
      "\n",
      "Does family status 'Married' and distance from work '20' influence work-life balance?\n",
      "No, there is no significant difference in work-life balance.\n",
      "\n",
      "Does family status 'Married' and distance from work '28' influence work-life balance?\n",
      "No, there is no significant difference in work-life balance.\n",
      "\n",
      "Does family status 'Married' and distance from work '17' influence work-life balance?\n",
      "No, there is no significant difference in work-life balance.\n",
      "\n",
      "Does family status 'Married' and distance from work '13' influence work-life balance?\n",
      "No, there is no significant difference in work-life balance.\n",
      "\n",
      "Does family status 'Divorced' and distance from work '1' influence work-life balance?\n",
      "No, there is no significant difference in work-life balance.\n",
      "\n",
      "Does family status 'Divorced' and distance from work '8' influence work-life balance?\n",
      "No, there is no significant difference in work-life balance.\n",
      "\n",
      "Does family status 'Divorced' and distance from work '2' influence work-life balance?\n",
      "No, there is no significant difference in work-life balance.\n",
      "\n",
      "Does family status 'Divorced' and distance from work '3' influence work-life balance?\n",
      "No, there is no significant difference in work-life balance.\n",
      "\n",
      "Does family status 'Divorced' and distance from work '24' influence work-life balance?\n",
      "No, there is no significant difference in work-life balance.\n",
      "\n",
      "Does family status 'Divorced' and distance from work '23' influence work-life balance?\n",
      "No, there is no significant difference in work-life balance.\n",
      "\n",
      "Does family status 'Divorced' and distance from work '27' influence work-life balance?\n",
      "No, there is no significant difference in work-life balance.\n",
      "\n",
      "Does family status 'Divorced' and distance from work '16' influence work-life balance?\n",
      "No, there is no significant difference in work-life balance.\n",
      "\n",
      "Does family status 'Divorced' and distance from work '15' influence work-life balance?\n",
      "Yes, there is a significant difference in work-life balance.\n",
      "\n",
      "Does family status 'Divorced' and distance from work '26' influence work-life balance?\n",
      "No, there is no significant difference in work-life balance.\n",
      "\n",
      "Does family status 'Divorced' and distance from work '19' influence work-life balance?\n",
      "No, there is no significant difference in work-life balance.\n",
      "\n",
      "Does family status 'Divorced' and distance from work '21' influence work-life balance?\n",
      "No, there is no significant difference in work-life balance.\n",
      "\n",
      "Does family status 'Divorced' and distance from work '5' influence work-life balance?\n",
      "No, there is no significant difference in work-life balance.\n",
      "\n",
      "Does family status 'Divorced' and distance from work '11' influence work-life balance?\n",
      "No, there is no significant difference in work-life balance.\n",
      "\n",
      "Does family status 'Divorced' and distance from work '9' influence work-life balance?\n",
      "No, there is no significant difference in work-life balance.\n",
      "\n",
      "Does family status 'Divorced' and distance from work '7' influence work-life balance?\n",
      "No, there is no significant difference in work-life balance.\n",
      "\n",
      "Does family status 'Divorced' and distance from work '6' influence work-life balance?\n",
      "No, there is no significant difference in work-life balance.\n",
      "\n",
      "Does family status 'Divorced' and distance from work '10' influence work-life balance?\n",
      "No, there is no significant difference in work-life balance.\n",
      "\n",
      "Does family status 'Divorced' and distance from work '4' influence work-life balance?\n",
      "No, there is no significant difference in work-life balance.\n",
      "\n",
      "Does family status 'Divorced' and distance from work '25' influence work-life balance?\n",
      "No, there is no significant difference in work-life balance.\n",
      "\n",
      "Does family status 'Divorced' and distance from work '12' influence work-life balance?\n",
      "No, there is no significant difference in work-life balance.\n",
      "\n",
      "Does family status 'Divorced' and distance from work '18' influence work-life balance?\n",
      "No, there is no significant difference in work-life balance.\n",
      "\n",
      "Does family status 'Divorced' and distance from work '29' influence work-life balance?\n",
      "No, there is no significant difference in work-life balance.\n",
      "\n",
      "Does family status 'Divorced' and distance from work '22' influence work-life balance?\n",
      "No, there is no significant difference in work-life balance.\n",
      "\n",
      "Does family status 'Divorced' and distance from work '14' influence work-life balance?\n",
      "No, there is no significant difference in work-life balance.\n",
      "\n",
      "Does family status 'Divorced' and distance from work '20' influence work-life balance?\n",
      "No, there is no significant difference in work-life balance.\n",
      "\n",
      "Does family status 'Divorced' and distance from work '28' influence work-life balance?\n",
      "No, there is no significant difference in work-life balance.\n",
      "\n",
      "Does family status 'Divorced' and distance from work '17' influence work-life balance?\n",
      "No, there is no significant difference in work-life balance.\n",
      "\n",
      "Does family status 'Divorced' and distance from work '13' influence work-life balance?\n",
      "No, there is no significant difference in work-life balance.\n",
      "\n"
     ]
    },
    {
     "name": "stderr",
     "output_type": "stream",
     "text": [
      "/Users/martinthuren/anaconda3/lib/python3.11/site-packages/scipy/stats/_axis_nan_policy.py:523: RuntimeWarning: Precision loss occurred in moment calculation due to catastrophic cancellation. This occurs when the data are nearly identical. Results may be unreliable.\n",
      "  res = hypotest_fun_out(*samples, **kwds)\n"
     ]
    }
   ],
   "source": [
    "# Perform t-test for each combination of family status and distance from work\n",
    "marital_statuses = work_life_data['MaritalStatus'].unique()\n",
    "distances = work_life_data['DistanceFromHome'].unique()\n",
    "\n",
    "for marital_status in marital_statuses:\n",
    "    for distance in distances:\n",
    "        work_life_marital = work_life_data[(work_life_data['MaritalStatus'] == marital_status) & (work_life_data['DistanceFromHome'] == distance)]['WorkLifeBalance']\n",
    "        work_life_single = work_life_data[(work_life_data['MaritalStatus'] == 'Single') & (work_life_data['DistanceFromHome'] == distance)]['WorkLifeBalance']\n",
    "        \n",
    "        # Perform t-test\n",
    "        t_stat, p_value = ttest_ind(work_life_marital, work_life_single)\n",
    "\n",
    "        # Print results\n",
    "        print(f\"Does family status '{marital_status}' and distance from work '{distance}' influence work-life balance?\")\n",
    "        if p_value < 0.05:\n",
    "            print(\"Yes, there is a significant difference in work-life balance.\")\n",
    "        else:\n",
    "            print(\"No, there is no significant difference in work-life balance.\")\n",
    "        print(\"\")\n",
    "        "
   ]
  },
  {
   "cell_type": "markdown",
   "metadata": {},
   "source": [
    "## Does education make people happy (satisfied with the work)?"
   ]
  },
  {
   "cell_type": "code",
   "execution_count": 473,
   "metadata": {},
   "outputs": [],
   "source": [
    "education_satisfaction_data = df[['Education', 'JobSatisfaction']]"
   ]
  },
  {
   "cell_type": "code",
   "execution_count": 474,
   "metadata": {},
   "outputs": [],
   "source": [
    "# Group by education level and calculate average job satisfaction\n",
    "average_satisfaction_by_education = education_satisfaction_data.groupby('Education')['JobSatisfaction'].mean()\n"
   ]
  },
  {
   "cell_type": "code",
   "execution_count": 475,
   "metadata": {},
   "outputs": [
    {
     "name": "stdout",
     "output_type": "stream",
     "text": [
      "Education\n",
      "1    2.800000\n",
      "2    2.769504\n",
      "3    2.652098\n",
      "4    2.786432\n",
      "5    2.666667\n",
      "Name: JobSatisfaction, dtype: float64\n"
     ]
    }
   ],
   "source": [
    "# Print the results\n",
    "print(average_satisfaction_by_education)"
   ]
  }
 ],
 "metadata": {
  "kernelspec": {
   "display_name": "base",
   "language": "python",
   "name": "python3"
  },
  "language_info": {
   "codemirror_mode": {
    "name": "ipython",
    "version": 3
   },
   "file_extension": ".py",
   "mimetype": "text/x-python",
   "name": "python",
   "nbconvert_exporter": "python",
   "pygments_lexer": "ipython3",
   "version": "3.11.5"
  }
 },
 "nbformat": 4,
 "nbformat_minor": 2
}
